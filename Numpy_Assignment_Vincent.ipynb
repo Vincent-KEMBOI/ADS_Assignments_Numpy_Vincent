{
 "cells": [
  {
   "cell_type": "code",
   "execution_count": 3,
   "id": "8499fc06-2ad2-4a0c-8f50-4da22b80dd69",
   "metadata": {},
   "outputs": [],
   "source": [
    "import numpy as np"
   ]
  },
  {
   "cell_type": "code",
   "execution_count": 9,
   "id": "0b22aad2-cf0c-4250-97ff-429dfa091862",
   "metadata": {},
   "outputs": [
    {
     "data": {
      "text/plain": [
       "array([160, 155, 172, 165, 180, 158, 175, 163, 171, 168])"
      ]
     },
     "execution_count": 9,
     "metadata": {},
     "output_type": "execute_result"
    }
   ],
   "source": [
    "heights = np.array([160, 155, 172, 165, 180, 158, 175, 163, 171, 168])\n",
    "heights"
   ]
  },
  {
   "cell_type": "code",
   "execution_count": 15,
   "id": "6798d4c8-c2d1-40ec-b5c3-1efacb395913",
   "metadata": {},
   "outputs": [
    {
     "data": {
      "text/plain": [
       "166.7"
      ]
     },
     "execution_count": 15,
     "metadata": {},
     "output_type": "execute_result"
    }
   ],
   "source": [
    "mean_height=np.mean(heights)\n",
    "mean_height"
   ]
  },
  {
   "cell_type": "code",
   "execution_count": 17,
   "id": "8acd7d19-61b7-444c-a974-a60c5497a8f0",
   "metadata": {},
   "outputs": [
    {
     "data": {
      "text/plain": [
       "166.5"
      ]
     },
     "execution_count": 17,
     "metadata": {},
     "output_type": "execute_result"
    }
   ],
   "source": [
    "median_height=np.median(heights)\n",
    "median_height"
   ]
  },
  {
   "cell_type": "code",
   "execution_count": 19,
   "id": "5fd26ff1-af49-4147-b1bf-fa50e5fc8ae8",
   "metadata": {},
   "outputs": [
    {
     "data": {
      "text/plain": [
       "7.5372408744845085"
      ]
     },
     "execution_count": 19,
     "metadata": {},
     "output_type": "execute_result"
    }
   ],
   "source": [
    "std_height=np.std(heights)\n",
    "std_height"
   ]
  },
  {
   "cell_type": "code",
   "execution_count": 21,
   "id": "0f3a4f47-bac7-4db6-82e7-5b7cbf6dd229",
   "metadata": {},
   "outputs": [
    {
     "data": {
      "text/plain": [
       "array([-0.88891945, -1.55229217,  0.70317509, -0.22554673,  1.76457144,\n",
       "       -1.15426854,  1.10119872, -0.49089581,  0.57050054,  0.17247691])"
      ]
     },
     "execution_count": 21,
     "metadata": {},
     "output_type": "execute_result"
    }
   ],
   "source": [
    "normal_heights=(heights-mean_height)/std_height\n",
    "normal_heights"
   ]
  },
  {
   "cell_type": "code",
   "execution_count": 25,
   "id": "4fe0a49e-012e-45ea-8003-8b6b15827883",
   "metadata": {},
   "outputs": [
    {
     "name": "stdout",
     "output_type": "stream",
     "text": [
      "1.50712775592865e-15\n",
      "0.9999999999999999\n"
     ]
    }
   ],
   "source": [
    "print(np.mean(normal_heights))\n",
    "print(np.std(normal_heights))"
   ]
  },
  {
   "cell_type": "code",
   "execution_count": 35,
   "id": "d58bbdcb-78a2-4dcf-8666-c5d2f70625ec",
   "metadata": {},
   "outputs": [
    {
     "name": "stdout",
     "output_type": "stream",
     "text": [
      "Tallest: 4 and Shortest: 1\n"
     ]
    }
   ],
   "source": [
    "tallest=np.argmax(heights) #Tallest student\n",
    "shortest=np.argmin(heights) #shortest student\n",
    "print(f\"Tallest: {tallest} and Shortest: {shortest}\")"
   ]
  },
  {
   "cell_type": "code",
   "execution_count": 33,
   "id": "540215ed-4288-4166-a609-f359d6c2fb1d",
   "metadata": {},
   "outputs": [
    {
     "name": "stdout",
     "output_type": "stream",
     "text": [
      "180\n",
      "155\n"
     ]
    }
   ],
   "source": [
    "print(heights[tallest])\n",
    "print(heights[shortest])"
   ]
  },
  {
   "cell_type": "code",
   "execution_count": 29,
   "id": "f7626b7d-c5c7-4787-80bc-caff6c90d3f0",
   "metadata": {},
   "outputs": [
    {
     "name": "stdout",
     "output_type": "stream",
     "text": [
      "Max height difference: 25\n"
     ]
    }
   ],
   "source": [
    "tall_short_diff=np.max(heights)-np.min(heights)\n",
    "print(f\"Max height difference: {tall_short_diff}\")"
   ]
  },
  {
   "cell_type": "code",
   "execution_count": 41,
   "id": "1073ea38-51e3-4219-9266-29550d1a9085",
   "metadata": {},
   "outputs": [
    {
     "data": {
      "text/plain": [
       "array([171, 155, 168, 175, 163])"
      ]
     },
     "execution_count": 41,
     "metadata": {},
     "output_type": "execute_result"
    }
   ],
   "source": [
    "heights_norep=np.random.choice(heights,5,replace=False) #Select random heights with no replacement\n",
    "heights_norep"
   ]
  }
 ],
 "metadata": {
  "kernelspec": {
   "display_name": "Python 3 (ipykernel)",
   "language": "python",
   "name": "python3"
  },
  "language_info": {
   "codemirror_mode": {
    "name": "ipython",
    "version": 3
   },
   "file_extension": ".py",
   "mimetype": "text/x-python",
   "name": "python",
   "nbconvert_exporter": "python",
   "pygments_lexer": "ipython3",
   "version": "3.12.4"
  }
 },
 "nbformat": 4,
 "nbformat_minor": 5
}
